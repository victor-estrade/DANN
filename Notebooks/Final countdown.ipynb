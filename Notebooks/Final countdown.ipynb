{
 "cells": [
  {
   "cell_type": "markdown",
   "metadata": {
    "collapsed": true
   },
   "source": [
    "# Introduction\n",
    "\n",
    "Ici je vais écrire la version finale de la méthode EM pour le *cas 3 : Contrainte de pureté*\n"
   ]
  },
  {
   "cell_type": "markdown",
   "metadata": {},
   "source": [
    "- [1. Loading of datasets](#Load-datasets)\n",
    "- [2. Transformation of datasets](#Transform-datasets)\n",
    "- [3. Helper functions](#Helper-functions)\n",
    "- [4. Manual EMANN](#Manual-EMANN)\n",
    "    - [4.1 EM Starts Here !](#EM-Starts-Here-!)\n",
    "- [5. ReGenerate data](#ReGenerate-data)\n"
   ]
  },
  {
   "cell_type": "markdown",
   "metadata": {
    "collapsed": true
   },
   "source": [
    "[**[Back to top]**](#Introduction)"
   ]
  },
  {
   "cell_type": "code",
   "execution_count": 1,
   "metadata": {
    "collapsed": false
   },
   "outputs": [
    {
     "name": "stderr",
     "output_type": "stream",
     "text": [
      "Vendor:  Continuum Analytics, Inc.\n",
      "Package: mkl\n",
      "Message: trial mode expires in 30 days\n",
      "Using gpu device 0: GeForce GT 750M (CNMeM is disabled, CuDNN 3007)\n"
     ]
    }
   ],
   "source": [
    "from __future__ import division, print_function\n",
    "import sys\n",
    "if '..' not in sys.path:\n",
    "    sys.path.append('..')\n",
    "\n",
    "import theano\n",
    "import theano.tensor as T\n",
    "import lasagne\n",
    "\n",
    "import time\n",
    "import visual\n",
    "\n",
    "import numpy as np\n",
    "import pandas as pd\n",
    "import matplotlib.pyplot as plt\n",
    "import seaborn as sns; sns.set()\n",
    "\n",
    "from sklearn.metrics import confusion_matrix, pairwise_distances\n",
    "\n",
    "from nn.helper import CNN, NN\n",
    "from nn import block as nnb\n",
    "from nn import compilers as nnc\n"
   ]
  },
  {
   "cell_type": "code",
   "execution_count": 2,
   "metadata": {
    "collapsed": true
   },
   "outputs": [],
   "source": [
    "%matplotlib inline"
   ]
  },
  {
   "cell_type": "markdown",
   "metadata": {},
   "source": [
    "# Load datasets\n",
    "\n",
    "- the datasets are loaded/built.\n",
    "- The batchsize is defined\n",
    "- half of the data name (the source part) is defined"
   ]
  },
  {
   "cell_type": "markdown",
   "metadata": {
    "collapsed": true
   },
   "source": [
    "[**[Back to top]**](#Introduction)"
   ]
  },
  {
   "cell_type": "markdown",
   "metadata": {},
   "source": [
    "## Datasets Imports "
   ]
  },
  {
   "cell_type": "code",
   "execution_count": 3,
   "metadata": {
    "collapsed": true
   },
   "outputs": [],
   "source": [
    "from datasets.toys import make_clouds, make_circles, make_X, make_moons\n",
    "from datasets.utils import make_dataset\n"
   ]
  },
  {
   "cell_type": "markdown",
   "metadata": {},
   "source": [
    "# Transform datasets\n",
    "\n",
    "- the transformed datasets are built.\n",
    "- last part of the data name (the target part) is defined"
   ]
  },
  {
   "cell_type": "markdown",
   "metadata": {
    "collapsed": true
   },
   "source": [
    "[**[Back to top]**](#Introduction)"
   ]
  },
  {
   "cell_type": "markdown",
   "metadata": {},
   "source": [
    "## Transformation Imports"
   ]
  },
  {
   "cell_type": "code",
   "execution_count": 4,
   "metadata": {
    "collapsed": true
   },
   "outputs": [],
   "source": [
    "from datasets.utils import make_domain_dataset, make_corrector_dataset\n",
    "import datasets.transform as transform"
   ]
  },
  {
   "cell_type": "markdown",
   "metadata": {},
   "source": [
    "# Helper functions"
   ]
  },
  {
   "cell_type": "markdown",
   "metadata": {
    "collapsed": true
   },
   "source": [
    "[**[Back to top]**](#Introduction)"
   ]
  },
  {
   "cell_type": "code",
   "execution_count": 5,
   "metadata": {
    "collapsed": true
   },
   "outputs": [],
   "source": [
    "# Import loggers\n",
    "from logs import new_logger, empty_logger\n",
    "logger = new_logger()"
   ]
  },
  {
   "cell_type": "code",
   "execution_count": 6,
   "metadata": {
    "collapsed": true
   },
   "outputs": [],
   "source": [
    "def mass(k_means):\n",
    "    \"\"\"\n",
    "    Params\n",
    "    ------\n",
    "        k_means: (sklearn.cluster.KMeans instance)\n",
    "    Return\n",
    "    ------\n",
    "        w: (numpy.array [n_clusters]) the mass of each clusters \n",
    "    \"\"\"\n",
    "    w = np.unique(k_means.labels_, return_counts=True)[1]\n",
    "    w = w/np.sum(w)\n",
    "    return w\n",
    "    "
   ]
  },
  {
   "cell_type": "code",
   "execution_count": null,
   "metadata": {
    "collapsed": true
   },
   "outputs": [],
   "source": [
    "from align_learn.preprocess import align\n",
    "\n",
    "def train_dataset(X_src, X_tgt, k_means_src, k_means_tgt, transp, proba='tgt'):\n",
    "    \"\"\"\n",
    "    \n",
    "    Params\n",
    "    ------\n",
    "        X_src:\n",
    "        X_tgt:\n",
    "        k_means_src:\n",
    "        k_means_tgt:\n",
    "        transp:\n",
    "        proba: 'tgt', 'target', 'src', 'source', 'stacked'\n",
    "        \n",
    "    Return\n",
    "    ------\n",
    "        X:\n",
    "        Y:\n",
    "    \"\"\"\n",
    "    align_idx, cluster_T = align(transp, k_means_src.labels_, k_means_tgt.labels_)\n",
    "    X_S, y_S = X_src, y_src\n",
    "    X_T, y_T = X_tgt[align_idx], y_tgt[align_idx]\n",
    "    # Build the probabilities to be predict\n",
    "    # For the source data\n",
    "    proba_src = np.zeros((X_S.shape[0], k_means_src.n_clusters))\n",
    "    proba_src[np.arange(X_S.shape[0]), k_means_src.labels_] = 1.\n",
    "    proba_tgt = transp[k_means_src.labels_]\n",
    "    proba_tgt = proba_tgt / np.sum(proba_tgt, 1).reshape(-1, 1)\n",
    "    if proba=='stacked':\n",
    "        Y_S = np.hstack([proba_src, proba_tgt])\n",
    "    elif proba=='tgt' or proba=='target':\n",
    "        Y_S = proba_tgt\n",
    "    elif proba=='src' or proba=='source':\n",
    "        Y_S = proba_src\n",
    "    else:\n",
    "        raise ValueError(\"proba option should be 'tgt', 'target', 'src', 'source' or 'stacked'.\"\n",
    "                        \"{} found\".format(proba))\n",
    "\n",
    "    # Build the probabilities to be predict\n",
    "    # For the aligned target data\n",
    "    proba_tgt = np.zeros((X_T.shape[0], k_means_tgt.n_clusters))\n",
    "    proba_tgt[np.arange(X_T.shape[0]), cluster_T] = 1.\n",
    "    proba_src = transp[:, cluster_T].T\n",
    "    proba_src = proba_src / np.sum(proba_src, 1).reshape(-1, 1)\n",
    "    if proba=='stacked':\n",
    "        Y_T = np.hstack([proba_src, proba_tgt])\n",
    "    elif proba=='tgt' or proba=='target':\n",
    "        Y_T = proba_tgt\n",
    "    elif proba=='src' or proba=='source':\n",
    "        Y_T = proba_src\n",
    "    else:\n",
    "        raise ValueError(\"proba option should be 'tgt', 'target', 'src', 'source' or 'stacked'.\"\n",
    "                        \"{} found\".format(proba))\n",
    "    \n",
    "    Y = np.vstack([Y_S, Y_T])\n",
    "    X = np.vstack([X_S, X_T])\n",
    "    return X, Y"
   ]
  },
  {
   "cell_type": "code",
   "execution_count": 146,
   "metadata": {
    "collapsed": false
   },
   "outputs": [],
   "source": [
    "def align(P, y_src, y_tgt):\n",
    "    \"\"\"\n",
    "    Return indexes of the chosen target data.\n",
    "    then\n",
    "    >>> X_S, y_S = X_src, y_src\n",
    "    >>> X_T, y_T = X_tgt[align_idx], y_tgt[align_idx]\n",
    "    coresponding transport lines and columns = k_means_src.labels_, k_means_tgt.labels_[idx_tgt]\n",
    "\n",
    "    Params\n",
    "    ------\n",
    "        P: the transport/probability matrix\n",
    "        y_src: the source's data labels\n",
    "        y_tgt: the target's data labels\n",
    "\n",
    "    Return\n",
    "    ------\n",
    "        align_idx, cluster_T\n",
    "    \"\"\"\n",
    "    labels_src = np.unique(y_src)\n",
    "    labels_tgt = np.unique(y_tgt)\n",
    "    src_slices = [np.where(y_src == l_src)[0] for l_src in labels_src]\n",
    "    tgt_slices = [np.where(y_tgt == l_tgt)[0] for l_tgt in labels_tgt]\n",
    "    # src member of cluster i go to some tgt cluster j \n",
    "    # with the probability in the i-th row of transport matrix\n",
    "    cluster_choice = [np.random.choice(len(tgt_slices), size=src_idx.shape, p=P[i]/np.sum(P[i])) \n",
    "           for i, src_idx in enumerate(src_slices)]\n",
    "    # Stack it into array. And use the former indexes to match X_src with X_tgt[res]\n",
    "    cluster_choice_array = np.hstack(cluster_choice)[np.hstack(src_slices)]\n",
    "    align_idx = np.array([np.random.choice(tgt_slices[i]) for i in cluster_choice_array])\n",
    "    return align_idx\n"
   ]
  },
  {
   "cell_type": "code",
   "execution_count": null,
   "metadata": {
    "collapsed": true
   },
   "outputs": [],
   "source": [
    "align_idx = align(P, y_src, y_tgt)\n",
    "X_S, y_S = X_src, y_src\n",
    "X_T, y_T = X_tgt[align_idx], y_tgt[align_idx]\n",
    "\n",
    "def proba_src_P(P, y_src, y_tgt):\n",
    "    \"\"\"\n",
    "    return the probability of the given \n",
    "    \"\"\"\n",
    "    # Build the probabilities to be predict\n",
    "    # For the source data in the source distribution/partition\n",
    "    n_label = len(np.unique(y_src)[0])\n",
    "    n_sample = y_src.shape[0]\n",
    "    proba_src = np.zeros((n_sample, n_label))\n",
    "    proba_src[np.arange(n_sample), y_src] = 1.\n",
    "    \n",
    "    # For the target data in the source distribution/partition\n",
    "    proba_tgt = P[:, y_tgt].T\n",
    "    proba_tgt = proba_tgt / np.sum(proba_tgt, 1)[:, np.newaxis]\n",
    "    \n",
    "    return proba_src, proba_tgt\n",
    "\n",
    "def proba_tgt_P(P, y_src, y_tgt):\n",
    "    \"\"\"\n",
    "    return the probability of the given \n",
    "    \"\"\"\n",
    "    # Build the probabilities to be predict\n",
    "    # For the target data in the target distribution/partition\n",
    "    n_label = len(np.unique(y_tgt)[0])\n",
    "    n_sample = y_tgt.shape[0]\n",
    "    proba_tgt = np.zeros((n_sample, n_label))\n",
    "    proba_tgt[np.arange(n_sample), y_tgt] = 1.\n",
    "    \n",
    "    # For the source data in the target distribution/partition\n",
    "    proba_src = P[y_src]\n",
    "    proba_src = proba_src / np.sum(proba_src, 1)[:, np.newaxis]\n",
    "    \n",
    "    return proba_src, proba_tgt"
   ]
  },
  {
   "cell_type": "code",
   "execution_count": 21,
   "metadata": {
    "collapsed": true
   },
   "outputs": [],
   "source": [
    "def renorm(M, w_S=None, w_T=None, max_iter=200, epsilon=1e-6, last='line'):\n",
    "    \"\"\"\n",
    "    \"\"\"\n",
    "    # init data\n",
    "    # ---------\n",
    "    if w_S is None:\n",
    "        w_S = np.ones(np.shape(M)[0])\n",
    "    if w_T is None:\n",
    "        w_T = np.ones(np.shape(M)[1])\n",
    "    Nini = len(w_S)\n",
    "    Nfin = len(w_T)\n",
    "    \n",
    "    # we assume that no distances are null except those of the diagonal of distances\n",
    "    u = np.ones(Nini)/Nini\n",
    "    v = np.ones(Nfin)/Nfin\n",
    "    uprev = np.zeros(Nini)\n",
    "    cpt = 0\n",
    "    err = 1\n",
    "    # Main loop\n",
    "    # ---------\n",
    "    while (err > epsilon and cpt < max_iter):\n",
    "        cpt = cpt +1\n",
    "        # First we do a sanity check\n",
    "        if np.logical_or(np.any(np.dot(M.T,u)==0),np.isnan(np.sum(u))):\n",
    "            # we have reached the machine precision\n",
    "            # come back to previous solution and quit loop\n",
    "            print('Infinity')\n",
    "            if cpt!=0:\n",
    "                u = uprev\n",
    "            break\n",
    "        uprev = u  # Save the previous results in case of divide by 0\n",
    "        # now the real algo part : update vectors u and v\n",
    "        v = w_T/np.dot(M.T,u)\n",
    "        u = w_S/np.dot(M,v)\n",
    "        # Computing the new error value\n",
    "        if cpt%10==0:\n",
    "            # we can speed up the process by checking for the error only all the n-th iterations\n",
    "            final = u[:, np.newaxis]*M*v[:, np.newaxis].T\n",
    "            err = np.linalg.norm((np.sum(final, axis=0)-w_T))**2\n",
    "    # End of Main loop\n",
    "    # Return the transpotation matrix\n",
    "    if last=='column':\n",
    "        v = w_T/np.dot(M.T,u)\n",
    "    return u[:, np.newaxis]*M*v[:, np.newaxis].T\n"
   ]
  },
  {
   "cell_type": "code",
   "execution_count": 22,
   "metadata": {
    "collapsed": true
   },
   "outputs": [],
   "source": [
    "def softmax_alpha(x, alpha=1.0):\n",
    "    \"\"\"Compute softmax values for each sets of scores in x.\"\"\"\n",
    "    e_x = np.exp(alpha*(x - np.max(x)))\n",
    "    return e_x / e_x.sum(1)[:, np.newaxis]"
   ]
  },
  {
   "cell_type": "markdown",
   "metadata": {},
   "source": [
    "# Manual EMANN"
   ]
  },
  {
   "cell_type": "markdown",
   "metadata": {
    "collapsed": true
   },
   "source": [
    "[**[Back to top]**](#Introduction)"
   ]
  },
  {
   "cell_type": "code",
   "execution_count": 23,
   "metadata": {
    "collapsed": true
   },
   "outputs": [],
   "source": [
    "EM_ITER = 0"
   ]
  },
  {
   "cell_type": "markdown",
   "metadata": {},
   "source": [
    "**Generate data**"
   ]
  },
  {
   "cell_type": "code",
   "execution_count": 24,
   "metadata": {
    "collapsed": true
   },
   "outputs": [],
   "source": [
    "n_classes_1 = 4\n",
    "n_classes_2 = 4\n",
    "n_samples = 1000\n",
    "X_src, y_src = make_clouds(n_samples=n_samples, n_classes=n_classes_1)\n",
    "\n",
    "X_tgt, y_tgt = make_clouds(n_samples=n_samples, n_classes=n_classes_1)\n",
    "# X_tgt, y_tgt = make_circles(n_samples=n_samples,  n_classes=n_classes_2)\n",
    "\n",
    "data_name='Clouds -> Same'"
   ]
  },
  {
   "cell_type": "markdown",
   "metadata": {
    "collapsed": true
   },
   "source": [
    "**Clusters**"
   ]
  },
  {
   "cell_type": "code",
   "execution_count": 25,
   "metadata": {
    "collapsed": false
   },
   "outputs": [],
   "source": [
    "from sklearn.cluster import KMeans\n",
    "\n",
    "k_src = 10\n",
    "k_tgt = 12\n",
    "# We do not need to have the same number of cluster in the source and target data.\n",
    "k_means_src = KMeans(n_clusters=k_src).fit(X_src)\n",
    "k_means_tgt = KMeans(n_clusters=k_tgt).fit(X_tgt)\n",
    "# Mass and cost matrix\n",
    "w_src = mass(k_means_src)\n",
    "w_tgt = mass(k_means_tgt)"
   ]
  },
  {
   "cell_type": "markdown",
   "metadata": {},
   "source": [
    "**Random proba matrix**"
   ]
  },
  {
   "cell_type": "code",
   "execution_count": 26,
   "metadata": {
    "collapsed": false
   },
   "outputs": [
    {
     "data": {
      "image/png": "[encoded data removed]",
      "text/plain": [
       "<matplotlib.figure.Figure at 0x7fad35c28710>"
      ]
     },
     "metadata": {},
     "output_type": "display_data"
    }
   ],
   "source": [
    "P = np.random.uniform(0,1, size=(w_src.shape[0], w_tgt.shape[0]))\n",
    "visual.mat(P)\n",
    "plt.title(\"Proba matrix\")\n",
    "plt.show()"
   ]
  },
  {
   "cell_type": "code",
   "execution_count": 27,
   "metadata": {
    "collapsed": false
   },
   "outputs": [
    {
     "name": "stdout",
     "output_type": "stream",
     "text": [
      "[ 1.  1.  1.  1.  1.  1.  1.  1.  1.  1.  1.  1.]\n",
      "[ 1.2  1.2  1.2  1.2  1.2  1.2  1.2  1.2  1.2  1.2]\n",
      "--------\n",
      "[ 0.83333333  0.83333333  0.83333333  0.83333333  0.83333333  0.83333333\n",
      "  0.83333333  0.83333333  0.83333333  0.83333333  0.83333333  0.83333333]\n",
      "[ 1.  1.  1.  1.  1.  1.  1.  1.  1.  1.]\n"
     ]
    }
   ],
   "source": [
    "M = renorm(P, last='column')\n",
    "print(M.sum(0))\n",
    "print(M.sum(1))\n",
    "print('--------')\n",
    "M = renorm(P, last='line')\n",
    "print(M.sum(0))\n",
    "print(M.sum(1))"
   ]
  },
  {
   "cell_type": "code",
   "execution_count": 28,
   "metadata": {
    "collapsed": false
   },
   "outputs": [
    {
     "name": "stdout",
     "output_type": "stream",
     "text": [
      "39.1412158478 1646.40721561\n"
     ]
    },
    {
     "data": {
      "image/png": "[encoded data removed]",
      "text/plain": [
       "<matplotlib.figure.Figure at 0x7fad2cde8e10>"
      ]
     },
     "metadata": {},
     "output_type": "display_data"
    },
    {
     "data": {
      "image/png": "[encoded data removed]",
      "text/plain": [
       "<matplotlib.figure.Figure at 0x7fad2cde8b10>"
      ]
     },
     "metadata": {},
     "output_type": "display_data"
    }
   ],
   "source": [
    "sa = softmax_alpha(M, 15)\n",
    "print(sa.max()/sa.min(), M.max()/M.min())\n",
    "visual.mat(sa);\n",
    "visual.mat(M);\n"
   ]
  },
  {
   "cell_type": "code",
   "execution_count": null,
   "metadata": {
    "collapsed": false
   },
   "outputs": [],
   "source": []
  },
  {
   "cell_type": "markdown",
   "metadata": {
    "collapsed": true
   },
   "source": [
    "**Dual Proba dataset**"
   ]
  },
  {
   "cell_type": "code",
   "execution_count": 93,
   "metadata": {
    "collapsed": false
   },
   "outputs": [],
   "source": [
    "X, Y = train_dataset(X_src, X_tgt, k_means_src, k_means_tgt, P)\n",
    "indices = np.arange(X.shape[0])\n",
    "np.random.shuffle(indices)\n",
    "X, Y = X[indices], Y[indices]\n",
    "data = make_dataset(X, Y, batchsize=100)"
   ]
  },
  {
   "cell_type": "markdown",
   "metadata": {},
   "source": [
    "**Neural Network Architecture**"
   ]
  },
  {
   "cell_type": "code",
   "execution_count": 128,
   "metadata": {
    "collapsed": false
   },
   "outputs": [
    {
     "name": "stderr",
     "output_type": "stream",
     "text": [
      "[15:45:12] INFO    : Building the input and output variables for : Clouds -> Same\n",
      "[15:45:12] INFO    : Input data expected shape : (100, 2)\n"
     ]
    }
   ],
   "source": [
    "# Get general information :\n",
    "# =========================\n",
    "batchsize = data.batchsize\n",
    "_shape = np.shape(data.X_train)\n",
    "n_dim = len(_shape)\n",
    "n_features = np.prod(_shape[1:])\n",
    "\n",
    "shape = (batchsize,) + _shape[1:]\n",
    "target_var = T.ivector('targets')\n",
    "\n",
    "# Logs\n",
    "logger.info('Building the input and output variables for : {}'.format(data_name))\n",
    "logger.info('Input data expected shape : {}'.format(shape))\n",
    "\n",
    "# WARNING :: Une seule couche de proba. On prédit les ligne pas les colonnes !\n",
    "# Build the layers :\n",
    "# ==================\n",
    "def build(shape):\n",
    "    input_layer_src = lasagne.layers.InputLayer(shape=shape)\n",
    "\n",
    "    dense_1 = lasagne.layers.DenseLayer(input_layer, 3, nonlinearity=lasagne.nonlinearities.sigmoid)\n",
    "    dense_2 = lasagne.layers.DenseLayer(dense_1, shape[1], nonlinearity=lasagne.nonlinearities.sigmoid)\n",
    "\n",
    "    # With concat :\n",
    "# WARNING :: Une seule couche de proba. On prédit les ligne pas les colonnes !\n",
    "#     cluster_src = lasagne.layers.DenseLayer(dense_2, k_src, nonlinearity=lasagne.nonlinearities.softmax)\n",
    "    cluster_tgt = lasagne.layers.DenseLayer(dense_2, k_tgt, nonlinearity=lasagne.nonlinearities.softmax)\n",
    "#     concat_layer = lasagne.layers.ConcatLayer([cluster_src, cluster_tgt], axis=1)\n",
    "\n",
    "    end_layer = cluster_tgt\n",
    "    return end_layer, dense_2\n",
    "end_layer, repr_layer = build(shape)"
   ]
  },
  {
   "cell_type": "markdown",
   "metadata": {},
   "source": [
    "**Compile the NN**"
   ]
  },
  {
   "cell_type": "code",
   "execution_count": 129,
   "metadata": {
    "collapsed": false
   },
   "outputs": [],
   "source": [
    "# Instanciate the NN :\n",
    "# ====================\n",
    "# nn = NN(end_layer, name='EMANN test')\n",
    "nn = CNN(name='EMANN test')\n",
    "nn.add_output('proba', end_layer)\n",
    "nn.add_output('repr', repr_layer)\n",
    "\n",
    "# Compile :\n",
    "# =========\n",
    "nn.compile('proba', nnc.crossentropy_sgd_mom, lr=0.1, mom=0.9)\n",
    "nn.compile('proba', nnc.crossentropy_validation)\n",
    "nn.compile('proba', nnc.output)\n",
    "nn.compile('repr', nnc.output)\n"
   ]
  },
  {
   "cell_type": "markdown",
   "metadata": {},
   "source": [
    "**Train the NN**"
   ]
  },
  {
   "cell_type": "code",
   "execution_count": 130,
   "metadata": {
    "collapsed": false
   },
   "outputs": [
    {
     "data": {
      "image/png": "[encoded data removed]",
      "text/plain": [
       "<matplotlib.figure.Figure at 0x7fad2c565350>"
      ]
     },
     "metadata": {},
     "output_type": "display_data"
    }
   ],
   "source": [
    "# Train the nn :\n",
    "# ==============\n",
    "# nn.train(data, num_epochs=100);\n",
    "nn.train([data], ['proba'], num_epochs=100);\n",
    "\n",
    "# ================\n",
    "# Learning curve\n",
    "# ================\n",
    "fig, ax = visual.learning_curve(nn.global_stats, regex='loss')\n",
    "#     SAVE\n",
    "# fig.tight_layout()\n",
    "# fig.savefig(fig_title+'-Learning_curve.png',bbox_inches='tight')\n",
    "fig.show()"
   ]
  },
  {
   "cell_type": "markdown",
   "metadata": {},
   "source": [
    "**Check some results**"
   ]
  },
  {
   "cell_type": "code",
   "execution_count": 131,
   "metadata": {
    "collapsed": false
   },
   "outputs": [
    {
     "data": {
      "image/png": "[encoded data removed]",
      "text/plain": [
       "<matplotlib.figure.Figure at 0x7fad2c910690>"
      ]
     },
     "metadata": {},
     "output_type": "display_data"
    }
   ],
   "source": [
    "y_pred = nn.parts['proba'].output(data.X_test)[0]\n",
    "i = np.random.randint(0, data.X_test.shape[0])\n",
    "# print('\\n'.join('{:1.5f}--{:1.5f}'.format(pred, truth) for pred, truth in zip(y_pred[i], data.y_test[i])))\n",
    "width=0.4\n",
    "plt.bar(np.arange(k_tgt), y_pred[i], width, color='r', label='prediction')\n",
    "plt.bar(np.arange(k_tgt)+width, data.y_test[i], width, color='b', label='true value')\n",
    "plt.title(\"One point distrib\")\n",
    "plt.legend(bbox_to_anchor=(1.25,1.))\n",
    "# plt.yscale('log')\n",
    "plt.show()"
   ]
  },
  {
   "cell_type": "markdown",
   "metadata": {},
   "source": [
    "## **EM Starts Here !**"
   ]
  },
  {
   "cell_type": "markdown",
   "metadata": {
    "collapsed": true
   },
   "source": [
    "[**[Back to top]**](#Introduction)"
   ]
  },
  {
   "cell_type": "markdown",
   "metadata": {},
   "source": [
    "**Rebuild P**"
   ]
  },
  {
   "cell_type": "code",
   "execution_count": null,
   "metadata": {
    "collapsed": false
   },
   "outputs": [],
   "source": [
    "# Agregate lines\n",
    "\n",
    "# softmax_alpha(P)"
   ]
  },
  {
   "cell_type": "markdown",
   "metadata": {},
   "source": [
    "**Dual Proba dataset**"
   ]
  },
  {
   "cell_type": "code",
   "execution_count": 132,
   "metadata": {
    "collapsed": false
   },
   "outputs": [],
   "source": [
    "X, Y = train_dataset(X_src, X_tgt, k_means_src, k_means_tgt, P)\n",
    "indices = np.arange(X.shape[0])\n",
    "np.random.shuffle(indices)\n",
    "X, Y = X[indices], Y[indices]\n",
    "data = make_dataset(X, Y, batchsize=100)"
   ]
  },
  {
   "cell_type": "markdown",
   "metadata": {},
   "source": [
    "**Neural network** (re-initialization)"
   ]
  },
  {
   "cell_type": "raw",
   "metadata": {},
   "source": [
    "# Build the layers :\n",
    "# ==================\n",
    "end_layer, repr_layer = build()\n",
    "\n",
    "# Instanciate the NN :\n",
    "# ====================\n",
    "# nn = NN(end_layer, name='EMANN test')\n",
    "# nn = CNN(name='EMANN test')\n",
    "nn['proba'] = end_layer\n",
    "nn['repr'] = repr_layer\n",
    "\n",
    "# Compile :\n",
    "# =========\n",
    "# nn.compile(nnc.crossentropy_sgd_mom, lr=0.1, mom=0.9)\n",
    "# nn.compile(nnc.crossentropy_validation)\n",
    "# nn.compile(nnc.output)\n",
    "\n",
    "nn.compile('proba', nnc.crossentropy_sgd_mom, lr=0.01, mom=0.9)\n",
    "nn.compile('proba', nnc.crossentropy_validation)\n",
    "nn.compile('proba', nnc.output)\n",
    "nn.compile('repr', nnc.output)\n"
   ]
  },
  {
   "cell_type": "markdown",
   "metadata": {},
   "source": [
    "**Train the NN**"
   ]
  },
  {
   "cell_type": "code",
   "execution_count": 133,
   "metadata": {
    "collapsed": false
   },
   "outputs": [
    {
     "name": "stdout",
     "output_type": "stream",
     "text": [
      "Iteration n* 3\n"
     ]
    },
    {
     "data": {
      "image/png": "[encoded data removed]",
      "text/plain": [
       "<matplotlib.figure.Figure at 0x7fad2c928e10>"
      ]
     },
     "metadata": {},
     "output_type": "display_data"
    }
   ],
   "source": [
    "# Train the nn :\n",
    "# ==============\n",
    "# nn.train(data, num_epochs=100);\n",
    "nn.train([data], ['proba'], num_epochs=100);\n",
    "# ================\n",
    "# Learning curve\n",
    "# ================\n",
    "fig, ax = visual.learning_curve(nn.global_stats, regex='loss')\n",
    "#     SAVE\n",
    "# fig.tight_layout()\n",
    "# fig.savefig(fig_title+'-Learning_curve.png',bbox_inches='tight')\n",
    "fig.show()\n",
    "\n",
    "EM_ITER += 1\n",
    "print('Iteration n*', EM_ITER)"
   ]
  },
  {
   "cell_type": "markdown",
   "metadata": {},
   "source": [
    "**Check some results**"
   ]
  },
  {
   "cell_type": "code",
   "execution_count": 144,
   "metadata": {
    "collapsed": false
   },
   "outputs": [
    {
     "data": {
      "image/png": "[encoded data removed]",
      "text/plain": [
       "<matplotlib.figure.Figure at 0x7fad2c465890>"
      ]
     },
     "metadata": {},
     "output_type": "display_data"
    }
   ],
   "source": [
    "y_pred = nn.parts['proba'].output(data.X_test)[0]\n",
    "i = np.random.randint(0, data.X_test.shape[0])\n",
    "# print('\\n'.join('{:1.5f}--{:1.5f}'.format(pred, truth) for pred, truth in zip(y_pred[i], data.y_test[i])))\n",
    "width=0.4\n",
    "plt.bar(np.arange(k_tgt), y_pred[i], width, color='r', label='prediction')\n",
    "plt.bar(np.arange(k_tgt)+width, data.y_test[i], width, color='b', label='true value')\n",
    "plt.title(\"One point distrib\")\n",
    "plt.legend(bbox_to_anchor=(1.25,1.))\n",
    "# plt.yscale('log')\n",
    "plt.show()"
   ]
  },
  {
   "cell_type": "markdown",
   "metadata": {},
   "source": [
    "[**[EM LOOP]**](#EM-Starts-Here-!)"
   ]
  },
  {
   "cell_type": "markdown",
   "metadata": {
    "collapsed": true
   },
   "source": [
    "# ReGenerate data"
   ]
  },
  {
   "cell_type": "markdown",
   "metadata": {
    "collapsed": true
   },
   "source": [
    "[**[Back to top]**](#Introduction)"
   ]
  },
  {
   "cell_type": "code",
   "execution_count": 145,
   "metadata": {
    "collapsed": false
   },
   "outputs": [
    {
     "data": {
      "text/plain": [
       "[array([[ 0.84455299,  0.42574337],\n",
       "        [ 0.84227717,  0.04779824],\n",
       "        [ 0.40758595,  0.8933813 ],\n",
       "        ..., \n",
       "        [ 0.1662403 ,  0.03979085],\n",
       "        [ 0.42333016,  0.00542927],\n",
       "        [ 0.4279221 ,  0.89302963]], dtype=float32)]"
      ]
     },
     "execution_count": 145,
     "metadata": {},
     "output_type": "execute_result"
    }
   ],
   "source": [
    "nn.parts['repr'].output(data.X_test)"
   ]
  },
  {
   "cell_type": "code",
   "execution_count": null,
   "metadata": {
    "collapsed": true
   },
   "outputs": [],
   "source": []
  },
  {
   "cell_type": "code",
   "execution_count": null,
   "metadata": {
    "collapsed": true
   },
   "outputs": [],
   "source": []
  },
  {
   "cell_type": "code",
   "execution_count": null,
   "metadata": {
    "collapsed": true
   },
   "outputs": [],
   "source": []
  },
  {
   "cell_type": "code",
   "execution_count": null,
   "metadata": {
    "collapsed": true
   },
   "outputs": [],
   "source": []
  },
  {
   "cell_type": "code",
   "execution_count": null,
   "metadata": {
    "collapsed": true
   },
   "outputs": [],
   "source": []
  }
 ],
 "metadata": {
  "kernelspec": {
   "display_name": "Python 2",
   "language": "python",
   "name": "python2"
  },
  "language_info": {
   "codemirror_mode": {
    "name": "ipython",
    "version": 2
   },
   "file_extension": ".py",
   "mimetype": "text/x-python",
   "name": "python",
   "nbconvert_exporter": "python",
   "pygments_lexer": "ipython2",
   "version": "2.7.12"
  }
 },
 "nbformat": 4,
 "nbformat_minor": 0
}
