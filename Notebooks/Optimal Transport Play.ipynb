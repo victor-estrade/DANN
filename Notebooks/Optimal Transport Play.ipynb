{
 "cells": [
  {
   "cell_type": "code",
   "execution_count": null,
   "metadata": {
    "collapsed": false
   },
   "outputs": [],
   "source": [
    "from __future__ import division, print_function\n",
    "import sys\n",
    "if '..' not in sys.path:\n",
    "    sys.path.append('..')\n",
    "\n",
    "import time\n",
    "\n",
    "import numpy as np\n",
    "import pandas as pd\n",
    "import matplotlib.pyplot as plt\n",
    "import seaborn as sns; sns.set()\n",
    "\n",
    "from sklearn.metrics import confusion_matrix"
   ]
  },
  {
   "cell_type": "code",
   "execution_count": null,
   "metadata": {
    "collapsed": true
   },
   "outputs": [],
   "source": [
    "%matplotlib inline"
   ]
  },
  {
   "cell_type": "markdown",
   "metadata": {},
   "source": [
    "# Load datasets\n",
    "\n",
    "- the datasets are loaded/built.\n",
    "- The batchsize is defined\n",
    "- half of the data name (the source part) is defined"
   ]
  },
  {
   "cell_type": "markdown",
   "metadata": {},
   "source": [
    "- [1. Loading of datasets](#Load-datasets)\n",
    "- [2. Transformation of datasets](#Transform-datasets)\n",
    "- [3. First-test](#First-test)\n",
    "- [4. Playground](#Play-!)\n",
    "- [5. On Toys](#On-toys)\n"
   ]
  },
  {
   "cell_type": "markdown",
   "metadata": {},
   "source": [
    "## Clouds"
   ]
  },
  {
   "cell_type": "code",
   "execution_count": null,
   "metadata": {
    "collapsed": false
   },
   "outputs": [],
   "source": [
    "from datasets.toys import make_clouds\n",
    "from datasets.utils import make_dataset\n",
    "\n",
    "n_samples = 20  # Number of sample per class\n",
    "n_classes = 5\n",
    "batchsize = 80\n",
    "_data_name = 'Clouds'\n",
    "X, y = make_clouds(n_samples=n_samples, n_classes=n_classes)\n",
    "source_data = make_dataset(X, y, batchsize=batchsize)"
   ]
  },
  {
   "cell_type": "markdown",
   "metadata": {
    "collapsed": true
   },
   "source": [
    "## Circles"
   ]
  },
  {
   "cell_type": "code",
   "execution_count": null,
   "metadata": {
    "collapsed": false
   },
   "outputs": [],
   "source": [
    "from datasets.toys import make_circles\n",
    "from datasets.utils import make_dataset\n",
    "\n",
    "n_samples = 500  # Number of sample per class\n",
    "n_classes = 5\n",
    "n_dim = 2\n",
    "batchsize = 60\n",
    "_data_name = 'Circles'\n",
    "X, y = make_circles(n_samples=n_samples, n_classes=n_classes, n_dim=n_dim)\n",
    "source_data = make_dataset(X, y, batchsize=batchsize)"
   ]
  },
  {
   "cell_type": "markdown",
   "metadata": {},
   "source": [
    "## X"
   ]
  },
  {
   "cell_type": "code",
   "execution_count": null,
   "metadata": {
    "collapsed": false
   },
   "outputs": [],
   "source": [
    "from datasets.toys import make_X\n",
    "from datasets.utils import make_dataset\n",
    "\n",
    "n_samples = 500  # Number of sample per class\n",
    "n_classes = 5\n",
    "batchsize = 60\n",
    "_data_name = 'X'\n",
    "X, y = make_X(n_samples=n_samples, n_classes=n_classes)\n",
    "source_data = make_dataset(X, y, batchsize=batchsize)"
   ]
  },
  {
   "cell_type": "markdown",
   "metadata": {},
   "source": [
    "## Moons"
   ]
  },
  {
   "cell_type": "code",
   "execution_count": null,
   "metadata": {
    "collapsed": false
   },
   "outputs": [],
   "source": [
    "from datasets.toys import make_moons\n",
    "from datasets.utils import make_dataset\n",
    "\n",
    "n_samples = 50\n",
    "batchsize = 50\n",
    "_data_name = 'Moons'\n",
    "X, y = make_moons(n_samples=n_samples)\n",
    "source_data = make_dataset(X, y, batchsize=batchsize)"
   ]
  },
  {
   "cell_type": "markdown",
   "metadata": {},
   "source": [
    "## MNIST"
   ]
  },
  {
   "cell_type": "code",
   "execution_count": null,
   "metadata": {
    "collapsed": true
   },
   "outputs": [],
   "source": [
    "from datasets.mnist import load_mnist\n",
    "from datasets.utils import make_dataset\n",
    "\n",
    "batchsize = 500\n",
    "_data_name = 'MNIST'\n",
    "X, y = load_mnist()\n",
    "# X = X[:, 14:21, 14:21]\n",
    "source_data = make_dataset(X, y, batchsize=batchsize)"
   ]
  },
  {
   "cell_type": "markdown",
   "metadata": {},
   "source": [
    "# Transform datasets\n",
    "\n",
    "- the transformed datasets are built.\n",
    "- last part of the data name (the target part) is defined"
   ]
  },
  {
   "cell_type": "markdown",
   "metadata": {},
   "source": [
    "- [1. Loading of datasets](#Load-datasets)\n",
    "- [2. Transformation of datasets](#Transform-datasets)\n",
    "- [3. First-test](#First-test)\n",
    "- [4. Playground](#Play-!)\n",
    "- [5. On Toys](#On-toys)\n"
   ]
  },
  {
   "cell_type": "markdown",
   "metadata": {},
   "source": [
    "### Data rotated"
   ]
  },
  {
   "cell_type": "code",
   "execution_count": null,
   "metadata": {
    "collapsed": false
   },
   "outputs": [],
   "source": [
    "from datasets.utils import make_domain_dataset, make_corrector_dataset\n",
    "import datasets.transform as transform\n",
    "\n",
    "data_name = _data_name+'_Rotated'\n",
    "angle = 50\n",
    "\n",
    "X_t, y_t = transform.rotate(X, y, angle=angle)\n",
    "target_data = make_dataset(X_t, y_t, batchsize=batchsize)\n",
    "domain_data = make_domain_dataset([source_data, target_data])\n",
    "corrector_data = make_corrector_dataset(source_data, target_data)"
   ]
  },
  {
   "cell_type": "markdown",
   "metadata": {},
   "source": [
    "### Data . Random Matrix"
   ]
  },
  {
   "cell_type": "code",
   "execution_count": null,
   "metadata": {
    "collapsed": false
   },
   "outputs": [],
   "source": [
    "from datasets.utils import make_domain_dataset, make_corrector_dataset\n",
    "import datasets.transform as transform\n",
    "\n",
    "data_name = _data_name+'_RMat'\n",
    "\n",
    "X_t, y_t = transform.random_mat(X, y, normalize=False, random_state=42)\n",
    "target_data = make_dataset(X_t, y_t, batchsize=batchsize)\n",
    "domain_data = make_domain_dataset([source_data, target_data])\n",
    "corrector_data = make_corrector_dataset(source_data, target_data)"
   ]
  },
  {
   "cell_type": "markdown",
   "metadata": {},
   "source": [
    "### Data . Diag Dominant matrix"
   ]
  },
  {
   "cell_type": "code",
   "execution_count": null,
   "metadata": {
    "collapsed": true
   },
   "outputs": [],
   "source": [
    "from datasets.utils import make_domain_dataset, make_corrector_dataset\n",
    "import datasets.transform as transform\n",
    "\n",
    "data_name = _data_name+'_Diag'\n",
    "\n",
    "X_t, y_t = transform.diag_dominant(X, y, normalize=True)\n",
    "target_data = make_dataset(X_t, y_t, batchsize=batchsize)\n",
    "domain_data = make_domain_dataset([source_data, target_data])\n",
    "corrector_data = make_corrector_dataset(source_data, target_data)"
   ]
  },
  {
   "cell_type": "markdown",
   "metadata": {},
   "source": [
    "### Data Mirror"
   ]
  },
  {
   "cell_type": "code",
   "execution_count": null,
   "metadata": {
    "collapsed": true
   },
   "outputs": [],
   "source": [
    "from datasets.utils import make_domain_dataset, make_corrector_dataset\n",
    "import datasets.transform as transform\n",
    "\n",
    "data_name = _data_name+'_Mirror'\n",
    "\n",
    "X_t, y_t = transform.mirror(X, y)\n",
    "target_data = make_dataset(X_t, y_t, batchsize=batchsize)\n",
    "domain_data = make_domain_dataset([source_data, target_data])\n",
    "corrector_data = make_corrector_dataset(source_data, target_data)"
   ]
  },
  {
   "cell_type": "markdown",
   "metadata": {},
   "source": [
    "### Data Random Permutation"
   ]
  },
  {
   "cell_type": "code",
   "execution_count": null,
   "metadata": {
    "collapsed": true
   },
   "outputs": [],
   "source": [
    "from datasets.utils import make_domain_dataset, make_corrector_dataset\n",
    "import datasets.transform as transform\n",
    "\n",
    "data_name = _data_name+'_Rperm'\n",
    "\n",
    "X_t, y_t = transform.random_permut(X, y)\n",
    "target_data = make_dataset(X_t, y_t, batchsize=batchsize)\n",
    "domain_data = make_domain_dataset([source_data, target_data])\n",
    "corrector_data = make_corrector_dataset(source_data, target_data)"
   ]
  },
  {
   "cell_type": "markdown",
   "metadata": {},
   "source": [
    "### Grid Bend"
   ]
  },
  {
   "cell_type": "code",
   "execution_count": null,
   "metadata": {
    "collapsed": false
   },
   "outputs": [],
   "source": [
    "from datasets.utils import make_domain_dataset, make_corrector_dataset\n",
    "import datasets.transform as transform\n",
    "\n",
    "data_name = _data_name+'_GridBend'\n",
    "nx = 4\n",
    "ny = 4\n",
    "grid_noise = 0.5\n",
    "\n",
    "X_t, y_t, grid = transform.grid_bend(X, y, nx=nx, ny=ny, noise=grid_noise)\n",
    "target_data = make_dataset(X_t, y_t, batchsize=batchsize)\n",
    "domain_data = make_domain_dataset([source_data, target_data])\n",
    "corrector_data = make_corrector_dataset(source_data, target_data)"
   ]
  },
  {
   "cell_type": "markdown",
   "metadata": {},
   "source": [
    "### Apply function"
   ]
  },
  {
   "cell_type": "code",
   "execution_count": null,
   "metadata": {
    "collapsed": true
   },
   "outputs": [],
   "source": [
    "from datasets.utils import make_domain_dataset, make_corrector_dataset\n",
    "import datasets.transform as transform\n",
    "\n",
    "data_name = _data_name+'_Apply'\n",
    "\n",
    "def TT(X, y):\n",
    "    X_t = X + 0.5*np.sin(np.pi*X)\n",
    "#     X_t, y_t, grid = transform.grid_bend(X, y, nx=nx, ny=ny, noise=grid_noise)\n",
    "#     y_t = np.copy(y)\n",
    "    X_t, y_t = transform.rotate(X_t, y, angle=40)\n",
    "    return X_t, y_t\n",
    "\n",
    "X_t, y_t = TT(X, y)\n",
    "target_data = make_dataset(X_t, y_t, batchsize=batchsize)\n",
    "domain_data = make_domain_dataset([source_data, target_data])\n",
    "corrector_data = make_corrector_dataset(source_data, target_data)"
   ]
  },
  {
   "cell_type": "code",
   "execution_count": null,
   "metadata": {
    "collapsed": false,
    "scrolled": false
   },
   "outputs": [],
   "source": [
    "import visual\n",
    "fig, ax = visual.source_2D(source_data.X_test, source_data.y_test)\n",
    "fig, ax = visual.target_2D(target_data.X_test, target_data.y_test, ax=ax)\n",
    "ax.plot(grid.xx, grid.yy, '--');\n",
    "ax.plot(grid.xx.T, grid.yy.T, '--');\n",
    "ax.plot(grid.xxx, grid.yyy, '--');\n",
    "ax.plot(grid.xxx.T, grid.yyy.T, '--');"
   ]
  },
  {
   "cell_type": "code",
   "execution_count": null,
   "metadata": {
    "collapsed": true
   },
   "outputs": [],
   "source": []
  },
  {
   "cell_type": "code",
   "execution_count": null,
   "metadata": {
    "collapsed": false
   },
   "outputs": [],
   "source": [
    "print('X, y', X.shape, y.shape)\n",
    "print('source X', source_data.X_train.shape, source_data.X_val.shape, source_data.X_test.shape)\n",
    "print('source y', source_data.y_train.shape, source_data.y_val.shape, source_data.y_test.shape)\n",
    "print('target X', target_data.X_train.shape, target_data.X_val.shape, target_data.X_test.shape)\n",
    "print('target y', target_data.y_train.shape, target_data.y_val.shape, target_data.y_test.shape)\n"
   ]
  },
  {
   "cell_type": "code",
   "execution_count": null,
   "metadata": {
    "collapsed": true
   },
   "outputs": [],
   "source": [
    "from datasets.utils import Dataset"
   ]
  },
  {
   "cell_type": "markdown",
   "metadata": {},
   "source": [
    "# Optimal Transport solvers"
   ]
  },
  {
   "cell_type": "code",
   "execution_count": null,
   "metadata": {
    "collapsed": true
   },
   "outputs": [],
   "source": [
    "########### Compute transport with the Sinkhorn algorithm\n",
    "## ref \"Sinkhorn distances: Lightspeed computation of Optimal Transport\", NIPS 2013, Marco Cuturi\n",
    "\n",
    "def computeTransportSinkhorn(w_S, w_T, M, reg, max_iter=200, epsilon=1e-4):\n",
    "    \"\"\"\n",
    "    Optimal transport solver. Compute transport with the Sinkhorn algorithm\n",
    "    \n",
    "    ref \"Sinkhorn distances: Lightspeed computation of Optimal Transport\", NIPS 2013, Marco Cuturi\n",
    "    \n",
    "    Params\n",
    "    ------\n",
    "        w_S: (numpy array [n_S]) mass of the source distribution (histogram)\n",
    "        w_T: (numpy array [n_T]) mass of the target distribution (histogram)\n",
    "        M: (numpy array [n_s, n_T]) cost matrix, \n",
    "            m_ij = cost to get mass from source point x_i to target point x_j\n",
    "        reg: (float) lambda, value of the lagrange multiplier handling the entropy constraint\n",
    "    Return\n",
    "    ------\n",
    "        transp : the transport matrix\n",
    "    \"\"\"\n",
    "    # init data\n",
    "    # ---------\n",
    "    Nini = len(w_S)\n",
    "    Nfin = len(w_T)\n",
    "    # we assume that no distances are null except those of the diagonal of distances\n",
    "    u = np.ones(Nini)/Nini\n",
    "    uprev = np.zeros(Nini)\n",
    "    K = np.exp(-reg*M)  # Central matrix\n",
    "    Kp = np.dot(np.diag(1/w_S),K)  # Intermediate calcul\n",
    "#     transp = K  # unused\n",
    "    cpt = 0\n",
    "    err = 1\n",
    "    # Main loop\n",
    "    # ---------\n",
    "    while (err > epsilon and cpt < max_iter):\n",
    "        cpt = cpt +1\n",
    "        # First we do a sanity check\n",
    "        if np.logical_or(np.any(np.dot(K.T,u)==0),np.isnan(np.sum(u))):\n",
    "            # we have reached the machine precision\n",
    "            # come back to previous solution and quit loop\n",
    "            print('Infinity')\n",
    "            if cpt!=0:\n",
    "                u = uprev\n",
    "            break\n",
    "        uprev = u  # Save the previous results in case of divide by 0\n",
    "        # now the real algo part : update vectors u and v\n",
    "        v = np.divide(w_T,np.dot(K.T,u))\n",
    "        u = 1./np.dot(Kp,v)\n",
    "        # Computing the new error value\n",
    "        if cpt%10==0:\n",
    "            # we can speed up the process by checking for the error only all the n-th iterations\n",
    "            transp = np.dot(np.diag(u),np.dot(K,np.diag(v)))\n",
    "            err = np.linalg.norm((np.sum(transp,axis=0)-w_T))**2\n",
    "    # End of Main loop\n",
    "    print('cpt final :', cpt, 'err final :', err)\n",
    "    # Return the transpotation matrix\n",
    "    return np.dot(np.diag(u),np.dot(K,np.diag(v)))\n"
   ]
  },
  {
   "cell_type": "code",
   "execution_count": null,
   "metadata": {
    "collapsed": false
   },
   "outputs": [],
   "source": [
    "def diracize(M):\n",
    "    for i in range(M.shape[0]):\n",
    "        for j in range(M.shape[1]):\n",
    "            if fabs(M[i][j])>0:\n",
    "                M[i][j]=0\n",
    "            else:\n",
    "                M[i][j]=1\n",
    "\n",
    "def indices(a, func):\n",
    "    return [i for (i, val) in enumerate(a) if func(val)]\n",
    "\n",
    "def computeTransportSinkhornLabelsLpL1(distribS,LabelsS, distribT, M, reg, eta=0.1):\n",
    "    viz = False\n",
    "    p=1./2.\n",
    "    epsilon=1e-3\n",
    "\n",
    "    # init data\n",
    "    Nini = len(distribS)\n",
    "    Nfin = len(distribT)\n",
    "    \n",
    "    numItermax = 100\n",
    "    #print distribT\n",
    "    \n",
    "    indices_labels = []\n",
    "    idx_begin = np.min(LabelsS)\n",
    "    for c in range(idx_begin,np.max(LabelsS)+1):\n",
    "        idxc = indices(LabelsS, lambda x: x==c)\n",
    "        indices_labels.append(idxc)\n",
    "    transp = []\n",
    "\n",
    "    #print LabelsS\n",
    "    W=np.zeros(M.shape)\n",
    "\n",
    "    for cpt in range(10):\n",
    "        # we assume that no distances are null except those of the diagonal of distances\n",
    "        u = np.ones(Nini)/Nini\n",
    "        v = np.ones(Nfin)/Nfin\n",
    "        uprev=np.zeros(Nini)\n",
    "        \n",
    "        Mreg = M + eta*W\n",
    "        \n",
    "        K = np.exp(-reg*Mreg)\n",
    "        Kp = np.dot(np.diag(1/distribS),K)\n",
    "        \n",
    "        transp = np.dot(np.diag(u),np.dot(K,np.diag(v)))\n",
    "\n",
    "        cpt = 0\n",
    "        err=1\n",
    "        while (err>1e-4 and cpt<numItermax):\n",
    "            if np.logical_or(np.any(np.dot(K.T,u)==0),np.isnan(np.sum(u))):\n",
    "                # we have reached the machine precision\n",
    "                # come back to previous solution and quit loop\n",
    "                print('Infinity')\n",
    "                if cpt!=0:\n",
    "                    u = uprev\n",
    "                break\n",
    "            uprev = u\n",
    "            v = np.divide(distribT,np.dot(K.T,u))\n",
    "            u = 1./np.dot(Kp,v)\n",
    "            if cpt%10==0:\n",
    "                # we can speed up the process by checking for the error only all the 20th iterations\n",
    "                transp = np.dot(np.diag(u),np.dot(K,np.diag(v)))\n",
    "                err = np.linalg.norm((np.sum(transp,axis=0)-distribT))**2\n",
    "            cpt = cpt +1\n",
    "        # the transport has been computed. Check if classes are really separated\n",
    "        W = np.ones((Nini,Nfin))\n",
    "        for t in range(Nfin):\n",
    "            column = transp[:,t]\n",
    "            for c in range(len(indices_labels)):\n",
    "                col_c = column[indices_labels[c]]\n",
    "                W[indices_labels[c],t]=(p*((sum(col_c)+epsilon)**(p-1)))\n",
    "\n",
    "    \n",
    "    return transp\n",
    "\n"
   ]
  },
  {
   "cell_type": "markdown",
   "metadata": {},
   "source": [
    "# First test"
   ]
  },
  {
   "cell_type": "markdown",
   "metadata": {},
   "source": [
    "- [1. Loading of datasets](#Load-datasets)\n",
    "- [2. Transformation of datasets](#Transform-datasets)\n",
    "- [3. First-test](#First-test)\n",
    "- [4. Playground](#Play-!)\n",
    "- [5. On Toys](#On-toys)\n"
   ]
  },
  {
   "cell_type": "code",
   "execution_count": null,
   "metadata": {
    "collapsed": false
   },
   "outputs": [],
   "source": [
    "X = np.vstack((X, np.random.rand(10,2)))"
   ]
  },
  {
   "cell_type": "code",
   "execution_count": null,
   "metadata": {
    "collapsed": false
   },
   "outputs": [],
   "source": [
    "from sklearn.metrics.pairwise import euclidean_distances\n",
    "from sklearn.metrics.pairwise import rbf_kernel\n",
    "\n",
    "K1rbf = rbf_kernel(X,X,2)\n",
    "K2rbf = rbf_kernel(X_t,X_t,2)\n",
    "\n",
    "# w_S = np.ones(X_t.shape[0])/X_t.shape[0]\n",
    "w_S = np.sum(K2rbf,1) / np.sum(K2rbf)\n",
    "\n",
    "# w_T = np.ones(X.shape[0])/X.shape[0]\n",
    "w_T = np.sum(K1rbf,1) / np.sum(K1rbf)\n",
    "\n",
    "M = euclidean_distances(X, X_t)\n",
    "reg = 1"
   ]
  },
  {
   "cell_type": "code",
   "execution_count": null,
   "metadata": {
    "collapsed": false
   },
   "outputs": [],
   "source": [
    "transp = computeTransportSinkhorn(w_S, w_T, M.T, reg, max_iter=200, epsilon=1e-4)\n",
    "transpL = computeTransportSinkhornLabelsLpL1(w_S,y_t, w_T, M.T, reg, eta=0.1)"
   ]
  },
  {
   "cell_type": "code",
   "execution_count": null,
   "metadata": {
    "collapsed": true
   },
   "outputs": [],
   "source": []
  },
  {
   "cell_type": "code",
   "execution_count": null,
   "metadata": {
    "collapsed": false
   },
   "outputs": [],
   "source": [
    "# Visualiser les poids du transport\n",
    "import visual\n",
    "# transp = np.exp(-np.random.uniform(0,10, size=(X.shape[0], X_t.shape[0])))\n",
    "transp1 = transp/np.sum(transp,1)[:, np.newaxis]\n",
    "transpL1 = transpL/np.sum(transpL,1)[:, np.newaxis]\n"
   ]
  },
  {
   "cell_type": "raw",
   "metadata": {},
   "source": [
    "%timeit np.dot(np.diag(1/np.sum(transp,1)),transp)\n",
    "%timeit transp/np.sum(transp,1)[:, np.newaxis]\n",
    "%timeit transp/np.sum(transp,1).reshape(-1, 1)\n"
   ]
  },
  {
   "cell_type": "code",
   "execution_count": null,
   "metadata": {
    "collapsed": false
   },
   "outputs": [],
   "source": [
    "X.shape, X_t.shape, M.shape, transp.shape"
   ]
  },
  {
   "cell_type": "raw",
   "metadata": {
    "collapsed": false
   },
   "source": [
    "fig, ax = visual.mat(transp)\n"
   ]
  },
  {
   "cell_type": "code",
   "execution_count": null,
   "metadata": {
    "collapsed": false
   },
   "outputs": [],
   "source": [
    "from matplotlib.collections import LineCollection\n",
    "# epsilon = 3e-5\n",
    "aa = np.argsort(transpL, axis=0)\n",
    "lines = [[X_t[i], X[j]] for i in range(X_t.shape[0]) for j in aa[i][-5:]]\n",
    "c = [(0.8,0,0, transpL1[i][j]) for i in range(X_t.shape[0]) for j in aa[i][-5:]]\n",
    "print(len(lines), len(c), X.shape[0])\n",
    "\n",
    "ax = plt.axes()\n",
    "visual.target_2D(X, y, ax=ax)\n",
    "visual.source_2D(X_t, y_t, ax=ax)\n",
    "ax.add_collection(LineCollection(lines, color=c, lw=3))\n",
    "visual.add_legend(ax)\n",
    "plt.show()"
   ]
  },
  {
   "cell_type": "code",
   "execution_count": null,
   "metadata": {
    "collapsed": false
   },
   "outputs": [],
   "source": [
    "ax = plt.axes()\n",
    "visual.target_2D(X, y, ax=ax)\n",
    "visual.corrected_2D(X[np.argmax(transp, axis=0)], y_t, ax=ax)\n",
    "# ax.add_collection(LineCollection(lines, color=c, lw=3))\n",
    "visual.add_legend(ax)\n",
    "plt.show()"
   ]
  },
  {
   "cell_type": "code",
   "execution_count": null,
   "metadata": {
    "collapsed": false
   },
   "outputs": [],
   "source": []
  },
  {
   "cell_type": "code",
   "execution_count": null,
   "metadata": {
    "collapsed": false
   },
   "outputs": [],
   "source": []
  },
  {
   "cell_type": "code",
   "execution_count": null,
   "metadata": {
    "collapsed": false
   },
   "outputs": [],
   "source": []
  },
  {
   "cell_type": "code",
   "execution_count": null,
   "metadata": {
    "collapsed": false
   },
   "outputs": [],
   "source": []
  },
  {
   "cell_type": "code",
   "execution_count": null,
   "metadata": {
    "collapsed": true
   },
   "outputs": [],
   "source": []
  },
  {
   "cell_type": "code",
   "execution_count": null,
   "metadata": {
    "collapsed": true
   },
   "outputs": [],
   "source": []
  },
  {
   "cell_type": "code",
   "execution_count": null,
   "metadata": {
    "collapsed": true
   },
   "outputs": [],
   "source": [
    "# Visualiser et comprendre les graphes de flèches"
   ]
  },
  {
   "cell_type": "markdown",
   "metadata": {
    "collapsed": true
   },
   "source": [
    "# Play !\n"
   ]
  },
  {
   "cell_type": "markdown",
   "metadata": {},
   "source": [
    "- [1. Loading of datasets](#Load-datasets)\n",
    "- [2. Transformation of datasets](#Transform-datasets)\n",
    "- [3. First-test](#First-test)\n",
    "- [4. Playground](#Play-!)\n",
    "- [5. On Toys](#On-toys)\n"
   ]
  },
  {
   "cell_type": "code",
   "execution_count": null,
   "metadata": {
    "collapsed": false
   },
   "outputs": [],
   "source": [
    "import visual\n",
    "from bordel.sound import travail_termine"
   ]
  },
  {
   "cell_type": "code",
   "execution_count": null,
   "metadata": {
    "collapsed": true
   },
   "outputs": [],
   "source": []
  },
  {
   "cell_type": "code",
   "execution_count": null,
   "metadata": {
    "collapsed": false
   },
   "outputs": [],
   "source": [
    "import time\n",
    "# rng = np.logspace(1, 3.3, num=10, dtype=int)\n",
    "rng = np.linspace(20, 2500, num=15, dtype=int)\n",
    "reg = 5\n",
    "\n",
    "t_mass = []\n",
    "t_cost = []\n",
    "t_transport = []\n",
    "for N in rng:\n",
    "    N = int(N)\n",
    "    print('N :', N, end='//')\n",
    "    X_src, y_src = make_circles(n_samples=N, n_classes=5)\n",
    "    X_tgt, y_tgt = make_clouds(n_samples=N+1, n_classes=5)\n",
    "    \n",
    "    # Compute weights/mass/histograms\n",
    "    _t = time.clock()\n",
    "    K1rbf = rbf_kernel(X_src, X_src, 2)\n",
    "    w_S = np.sum(K1rbf,1) / np.sum(K1rbf)\n",
    "    K2rbf = rbf_kernel(X_tgt, X_tgt, 2)\n",
    "    w_T = np.sum(K2rbf,1) / np.sum(K2rbf)\n",
    "    t_mass.append(time.clock()-_t)\n",
    "    \n",
    "    # Compute cost matrix\n",
    "    _t = time.clock()\n",
    "    M = euclidean_distances(X_src, X_tgt)# + np.random.uniform(10,100, size=(X_src.shape[0], X_tgt.shape[0]))\n",
    "    t_cost.append(time.clock()-_t)\n",
    "\n",
    "    # Compute transport\n",
    "    _t = time.clock()\n",
    "    transp = computeTransportSinkhorn(w_S, w_T, M, reg, max_iter=200, epsilon=1e-5)\n",
    "    t_transport.append(time.clock()-_t)\n",
    "\n",
    "travail_termine()"
   ]
  },
  {
   "cell_type": "code",
   "execution_count": null,
   "metadata": {
    "collapsed": false
   },
   "outputs": [],
   "source": [
    "ax0 = plt.subplot()\n",
    "ax0.plot(rng, t_mass, label=\"t_mass\")\n",
    "visual.add_legend(ax0, title=\"mass\")\n",
    "plt.show()\n",
    "ax1 = plt.subplot()\n",
    "ax1.plot(rng, t_cost, label=\"t_cost\")\n",
    "visual.add_legend(ax1, title=\"cost\")\n",
    "plt.show()\n",
    "ax2 = plt.subplot()\n",
    "ax2.plot(rng, t_transport, label=\"t_transport\")\n",
    "visual.add_legend(ax2, title=\"transport\")\n",
    "plt.tight_layout()\n",
    "plt.show()\n"
   ]
  },
  {
   "cell_type": "markdown",
   "metadata": {
    "collapsed": false
   },
   "source": [
    "## On toys"
   ]
  },
  {
   "cell_type": "markdown",
   "metadata": {},
   "source": [
    "- [1. Loading of datasets](#Load-datasets)\n",
    "- [2. Transformation of datasets](#Transform-datasets)\n",
    "- [3. First-test](#First-test)\n",
    "- [4. Playground](#Play-!)\n",
    "- [5. On Toys](#On-toys)\n"
   ]
  },
  {
   "cell_type": "code",
   "execution_count": null,
   "metadata": {
    "collapsed": false
   },
   "outputs": [],
   "source": [
    "N = 20\n",
    "X_src, y_src = make_clouds(n_samples=N, n_classes=3)\n",
    "# X_tgt, y_tgt = make_clouds(n_samples=N+1, n_classes=5)\n",
    "X_tgt, y_tgt = transform.rotate(X_src, y_src, angle=35)\n",
    "# X_tgt, y_tgt = X_src, y_src\n",
    "\n",
    "# Compute weights/mass/histograms\n",
    "K1rbf = rbf_kernel(X_src, X_src, 2)\n",
    "w_S = np.sum(K1rbf,1) / np.sum(K1rbf)\n",
    "K2rbf = rbf_kernel(X_tgt, X_tgt, 2)\n",
    "w_T = np.sum(K2rbf,1) / np.sum(K2rbf)\n",
    "\n",
    "# Compute cost matrix\n",
    "M = euclidean_distances(X_src, X_tgt)# + np.random.uniform(10,100, size=(X_src.shape[0], X_tgt.shape[0]))\n",
    "\n",
    "# Compute transport\n",
    "transp = computeTransportSinkhorn(w_S, w_T, M, reg, max_iter=200, epsilon=1e-5)\n",
    "transp1 = transp/np.sum(transp,1)[:, np.newaxis]\n"
   ]
  },
  {
   "cell_type": "code",
   "execution_count": null,
   "metadata": {
    "collapsed": false,
    "scrolled": false
   },
   "outputs": [],
   "source": [
    "import visual\n",
    "from matplotlib.collections import LineCollection\n",
    "\n",
    "# epsilon = 3e-5\n",
    "aa = np.argsort(transp1, axis=0)\n",
    "lines = [[X_src[i], X_tgt[j]] for i in range(X_src.shape[0]) for j in aa[i][-15:]]\n",
    "c = [(0.8,0,0, transp1[i][j]) for i in range(X_src.shape[0]) for j in aa[i][-15:]]\n",
    "\n",
    "ax = plt.axes()\n",
    "visual.target_2D(X_tgt, y_tgt, ax=ax)\n",
    "visual.source_2D(X_src, y_src, ax=ax)\n",
    "ax.add_collection(LineCollection(lines, color=c, lw=3))\n",
    "visual.add_legend(ax, title='Link')\n",
    "plt.show()"
   ]
  },
  {
   "cell_type": "code",
   "execution_count": null,
   "metadata": {
    "collapsed": false,
    "scrolled": true
   },
   "outputs": [],
   "source": [
    "ax = plt.axes()\n",
    "visual.target_2D(X_tgt, y_tgt, ax=ax)\n",
    "visual.corrected_2D(X_tgt[np.argmax(transp, axis=1)], y_src, ax=ax)\n",
    "visual.add_legend(ax, title='Projection sur le max')\n",
    "plt.show()"
   ]
  },
  {
   "cell_type": "code",
   "execution_count": null,
   "metadata": {
    "collapsed": false
   },
   "outputs": [],
   "source": [
    "ax = plt.axes()\n",
    "visual.target_2D(X_tgt, y_tgt, ax=ax)\n",
    "visual.corrected_2D(np.dot(transp1,X_tgt), y_tgt, ax=ax)\n",
    "visual.add_legend(ax, title='Projection moyenne')\n",
    "plt.show()"
   ]
  },
  {
   "cell_type": "code",
   "execution_count": null,
   "metadata": {
    "collapsed": false
   },
   "outputs": [],
   "source": [
    "np.dot(transp1,X_tgt).shape"
   ]
  },
  {
   "cell_type": "code",
   "execution_count": null,
   "metadata": {
    "collapsed": true
   },
   "outputs": [],
   "source": []
  }
 ],
 "metadata": {
  "kernelspec": {
   "display_name": "Python 2",
   "language": "python",
   "name": "python2"
  },
  "language_info": {
   "codemirror_mode": {
    "name": "ipython",
    "version": 2
   },
   "file_extension": ".py",
   "mimetype": "text/x-python",
   "name": "python",
   "nbconvert_exporter": "python",
   "pygments_lexer": "ipython2",
   "version": "2.7.11"
  }
 },
 "nbformat": 4,
 "nbformat_minor": 0
}
